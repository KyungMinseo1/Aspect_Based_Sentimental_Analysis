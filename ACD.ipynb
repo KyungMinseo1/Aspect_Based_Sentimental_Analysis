{
 "cells": [
  {
   "cell_type": "code",
   "execution_count": 1,
   "id": "c600fe1d",
   "metadata": {},
   "outputs": [],
   "source": [
    "import jsonlines\n",
    "import pandas as pd\n",
    "\n",
    "# id 정보를 모아서 저장하는 예시\n",
    "train_dict = {\n",
    "    'id' : [],\n",
    "    'sentence_form' : [],\n",
    "    'annotation' : []\n",
    "}\n",
    "\n",
    "# open 내의 디렉토리 및 파일 이름에 유의\n",
    "with jsonlines.open('nikluge-sa-2022-train.jsonl') as f:\n",
    "    for line in f:\n",
    "        train_dict['id'].append(line['id'])\n",
    "        train_dict['sentence_form'].append(line['sentence_form'])\n",
    "        train_dict['annotation'].append(line['annotation'])"
   ]
  },
  {
   "cell_type": "code",
   "execution_count": 2,
   "id": "f6afb138",
   "metadata": {},
   "outputs": [],
   "source": [
    "train_df = pd.DataFrame(train_dict)"
   ]
  },
  {
   "cell_type": "code",
   "execution_count": 3,
   "id": "ce2e1b55",
   "metadata": {},
   "outputs": [
    {
     "data": {
      "text/html": [
       "<div>\n",
       "<style scoped>\n",
       "    .dataframe tbody tr th:only-of-type {\n",
       "        vertical-align: middle;\n",
       "    }\n",
       "\n",
       "    .dataframe tbody tr th {\n",
       "        vertical-align: top;\n",
       "    }\n",
       "\n",
       "    .dataframe thead th {\n",
       "        text-align: right;\n",
       "    }\n",
       "</style>\n",
       "<table border=\"1\" class=\"dataframe\">\n",
       "  <thead>\n",
       "    <tr style=\"text-align: right;\">\n",
       "      <th></th>\n",
       "      <th>id</th>\n",
       "      <th>sentence_form</th>\n",
       "      <th>annotation</th>\n",
       "    </tr>\n",
       "  </thead>\n",
       "  <tbody>\n",
       "    <tr>\n",
       "      <th>2986</th>\n",
       "      <td>nikluge-sa-2022-train-02987</td>\n",
       "      <td>저렴이 유기농 클렌저</td>\n",
       "      <td>[[제품 전체#가격, [저렴이 유기농 클렌저, 0, 11], positive]]</td>\n",
       "    </tr>\n",
       "    <tr>\n",
       "      <th>2987</th>\n",
       "      <td>nikluge-sa-2022-train-02988</td>\n",
       "      <td>- 지우면서도 피부에 뭐 남는거 없이 깔끔한 느낌</td>\n",
       "      <td>[[본품#품질, [None, 0, 0], positive]]</td>\n",
       "    </tr>\n",
       "    <tr>\n",
       "      <th>2988</th>\n",
       "      <td>nikluge-sa-2022-train-02989</td>\n",
       "      <td>왜 오일은 바르면 피부 미끄덩해지니까 빨리 뽀득뽀득 씻고 싶은데 얘는 그런건 없음</td>\n",
       "      <td>[[본품#품질, [None, 0, 0], neutral]]</td>\n",
       "    </tr>\n",
       "    <tr>\n",
       "      <th>2989</th>\n",
       "      <td>nikluge-sa-2022-train-02990</td>\n",
       "      <td>하우스 뮤직이나 일렉음악을 들으시는 분이면 6만원이라는 가격에도 나쁘지 않은 이어폰...</td>\n",
       "      <td>[[제품 전체#가격, [이어폰, 43, 46], neutral]]</td>\n",
       "    </tr>\n",
       "    <tr>\n",
       "      <th>2990</th>\n",
       "      <td>nikluge-sa-2022-train-02991</td>\n",
       "      <td>특히, 단선도 잘 안 당하는 극강 케이블인 점도 강점.</td>\n",
       "      <td>[[본품#품질, [케이블, 19, 22], positive]]</td>\n",
       "    </tr>\n",
       "    <tr>\n",
       "      <th>2991</th>\n",
       "      <td>nikluge-sa-2022-train-02992</td>\n",
       "      <td>다만, 착용감에서 호불호가 생길 수 있으니 반드시 청음 필수.</td>\n",
       "      <td>[[본품#품질, [None, 0, 0], neutral]]</td>\n",
       "    </tr>\n",
       "    <tr>\n",
       "      <th>2992</th>\n",
       "      <td>nikluge-sa-2022-train-02993</td>\n",
       "      <td>비싸 ㅠㅠㅠ</td>\n",
       "      <td>[[제품 전체#가격, [None, 0, 0], negative]]</td>\n",
       "    </tr>\n",
       "    <tr>\n",
       "      <th>2993</th>\n",
       "      <td>nikluge-sa-2022-train-02994</td>\n",
       "      <td>지금 입었는데 매우 따뜻하고 따갑다</td>\n",
       "      <td>[[제품 전체#품질, [None, 0, 0], neutral]]</td>\n",
       "    </tr>\n",
       "    <tr>\n",
       "      <th>2994</th>\n",
       "      <td>nikluge-sa-2022-train-02995</td>\n",
       "      <td>보드랍고 아주 좋다</td>\n",
       "      <td>[[제품 전체#품질, [None, 0, 0], positive]]</td>\n",
       "    </tr>\n",
       "    <tr>\n",
       "      <th>2995</th>\n",
       "      <td>nikluge-sa-2022-train-02996</td>\n",
       "      <td>겨울에 코트 안에 유용하게 입을 듯.</td>\n",
       "      <td>[[제품 전체#일반, [None, 0, 0], positive]]</td>\n",
       "    </tr>\n",
       "    <tr>\n",
       "      <th>2996</th>\n",
       "      <td>nikluge-sa-2022-train-02997</td>\n",
       "      <td>(슬픔)</td>\n",
       "      <td>[[제품 전체#가격, [None, 0, 0], negative]]</td>\n",
       "    </tr>\n",
       "    <tr>\n",
       "      <th>2997</th>\n",
       "      <td>nikluge-sa-2022-train-02998</td>\n",
       "      <td>보드랍고 괜찮다!</td>\n",
       "      <td>[[제품 전체#품질, [None, 0, 0], positive]]</td>\n",
       "    </tr>\n",
       "    <tr>\n",
       "      <th>2998</th>\n",
       "      <td>nikluge-sa-2022-train-02999</td>\n",
       "      <td>#일본 유니클로 질이 우리나라보다 좋은 것 같으면 기분 탓인가.......</td>\n",
       "      <td>[[브랜드#일반, [유니클로, 4, 8], neutral]]</td>\n",
       "    </tr>\n",
       "    <tr>\n",
       "      <th>2999</th>\n",
       "      <td>nikluge-sa-2022-train-03000</td>\n",
       "      <td>마지막으로 귀여워서 집어온 모자.</td>\n",
       "      <td>[[제품 전체#디자인, [모자, 15, 17], positive]]</td>\n",
       "    </tr>\n",
       "    <tr>\n",
       "      <th>3000</th>\n",
       "      <td>nikluge-sa-2022-train-03001</td>\n",
       "      <td>일본유니클로 사랑해!!!!!!!</td>\n",
       "      <td>[[브랜드#일반, [일본유니클로, 0, 6], positive]]</td>\n",
       "    </tr>\n",
       "  </tbody>\n",
       "</table>\n",
       "</div>"
      ],
      "text/plain": [
       "                               id  \\\n",
       "2986  nikluge-sa-2022-train-02987   \n",
       "2987  nikluge-sa-2022-train-02988   \n",
       "2988  nikluge-sa-2022-train-02989   \n",
       "2989  nikluge-sa-2022-train-02990   \n",
       "2990  nikluge-sa-2022-train-02991   \n",
       "2991  nikluge-sa-2022-train-02992   \n",
       "2992  nikluge-sa-2022-train-02993   \n",
       "2993  nikluge-sa-2022-train-02994   \n",
       "2994  nikluge-sa-2022-train-02995   \n",
       "2995  nikluge-sa-2022-train-02996   \n",
       "2996  nikluge-sa-2022-train-02997   \n",
       "2997  nikluge-sa-2022-train-02998   \n",
       "2998  nikluge-sa-2022-train-02999   \n",
       "2999  nikluge-sa-2022-train-03000   \n",
       "3000  nikluge-sa-2022-train-03001   \n",
       "\n",
       "                                          sentence_form  \\\n",
       "2986                                        저렴이 유기농 클렌저   \n",
       "2987                        - 지우면서도 피부에 뭐 남는거 없이 깔끔한 느낌   \n",
       "2988      왜 오일은 바르면 피부 미끄덩해지니까 빨리 뽀득뽀득 씻고 싶은데 얘는 그런건 없음   \n",
       "2989  하우스 뮤직이나 일렉음악을 들으시는 분이면 6만원이라는 가격에도 나쁘지 않은 이어폰...   \n",
       "2990                     특히, 단선도 잘 안 당하는 극강 케이블인 점도 강점.   \n",
       "2991                 다만, 착용감에서 호불호가 생길 수 있으니 반드시 청음 필수.   \n",
       "2992                                             비싸 ㅠㅠㅠ   \n",
       "2993                                지금 입었는데 매우 따뜻하고 따갑다   \n",
       "2994                                         보드랍고 아주 좋다   \n",
       "2995                               겨울에 코트 안에 유용하게 입을 듯.   \n",
       "2996                                               (슬픔)   \n",
       "2997                                          보드랍고 괜찮다!   \n",
       "2998          #일본 유니클로 질이 우리나라보다 좋은 것 같으면 기분 탓인가.......   \n",
       "2999                                 마지막으로 귀여워서 집어온 모자.   \n",
       "3000                                  일본유니클로 사랑해!!!!!!!   \n",
       "\n",
       "                                        annotation  \n",
       "2986  [[제품 전체#가격, [저렴이 유기농 클렌저, 0, 11], positive]]  \n",
       "2987             [[본품#품질, [None, 0, 0], positive]]  \n",
       "2988              [[본품#품질, [None, 0, 0], neutral]]  \n",
       "2989          [[제품 전체#가격, [이어폰, 43, 46], neutral]]  \n",
       "2990            [[본품#품질, [케이블, 19, 22], positive]]  \n",
       "2991              [[본품#품질, [None, 0, 0], neutral]]  \n",
       "2992          [[제품 전체#가격, [None, 0, 0], negative]]  \n",
       "2993           [[제품 전체#품질, [None, 0, 0], neutral]]  \n",
       "2994          [[제품 전체#품질, [None, 0, 0], positive]]  \n",
       "2995          [[제품 전체#일반, [None, 0, 0], positive]]  \n",
       "2996          [[제품 전체#가격, [None, 0, 0], negative]]  \n",
       "2997          [[제품 전체#품질, [None, 0, 0], positive]]  \n",
       "2998             [[브랜드#일반, [유니클로, 4, 8], neutral]]  \n",
       "2999         [[제품 전체#디자인, [모자, 15, 17], positive]]  \n",
       "3000          [[브랜드#일반, [일본유니클로, 0, 6], positive]]  "
      ]
     },
     "execution_count": 3,
     "metadata": {},
     "output_type": "execute_result"
    }
   ],
   "source": [
    "train_df.tail(15)"
   ]
  },
  {
   "cell_type": "code",
   "execution_count": 4,
   "id": "4fe6b024",
   "metadata": {},
   "outputs": [],
   "source": [
    "train_df['len'] = train_df.annotation.apply(lambda x : len(x))"
   ]
  },
  {
   "cell_type": "code",
   "execution_count": 5,
   "id": "b8551e5a",
   "metadata": {},
   "outputs": [
    {
     "data": {
      "text/plain": [
       "(array([1, 2, 3, 4, 5], dtype=int64),\n",
       " array([2766,  221,   10,    3,    1], dtype=int64))"
      ]
     },
     "execution_count": 5,
     "metadata": {},
     "output_type": "execute_result"
    }
   ],
   "source": [
    "import numpy as np\n",
    "np.unique(train_df['len'], return_counts = True)"
   ]
  },
  {
   "cell_type": "code",
   "execution_count": 6,
   "id": "14942aca",
   "metadata": {},
   "outputs": [],
   "source": [
    "def expand_row(row):\n",
    "    labels = row[\"annotation\"]\n",
    "    if len(labels) >= 2:\n",
    "        # 리스트 길이만큼 복사\n",
    "        return pd.DataFrame({\n",
    "            \"id\": [row[\"id\"]] * len(labels),\n",
    "            \"sentence_form\" : row['sentence_form'] * len(labels),\n",
    "            \"label\": labels,\n",
    "            \"annotation_len\": len(labels)\n",
    "        })\n",
    "    else:\n",
    "        return pd.DataFrame({\n",
    "            \"id\": [row[\"id\"]],\n",
    "            \"sentence_form\" : row['sentence_form'],\n",
    "            \"label\": labels,\n",
    "            \"annotation_len\" : 1\n",
    "        })\n",
    "    \n",
    "train_df = pd.concat(train_df.apply(expand_row, axis=1).tolist(), ignore_index=True)"
   ]
  },
  {
   "cell_type": "code",
   "execution_count": 7,
   "id": "841833b2",
   "metadata": {},
   "outputs": [],
   "source": [
    "def extract_ACD_entity(row):\n",
    "    return row[0].split(\"#\")[0]\n",
    "\n",
    "def extract_ACD_attribute(row):\n",
    "    return row[0].split(\"#\")[1]\n",
    "\n",
    "def extract_ACD_word(row):\n",
    "    return row[1][0]\n",
    "\n",
    "train_df['ACD_entity'] = train_df.label.apply(extract_ACD_entity)\n",
    "train_df['ACD_attribute'] = train_df.label.apply(extract_ACD_attribute)\n",
    "train_df['ACD_word'] = train_df.label.apply(extract_ACD_word)"
   ]
  },
  {
   "cell_type": "code",
   "execution_count": 8,
   "id": "3d2baaaa",
   "metadata": {},
   "outputs": [],
   "source": [
    "entity_cnt = train_df.ACD_entity.value_counts()\n",
    "attribute_cnt = train_df.ACD_attribute.value_counts()"
   ]
  },
  {
   "cell_type": "code",
   "execution_count": 9,
   "id": "ac027f5f",
   "metadata": {},
   "outputs": [
    {
     "data": {
      "image/png": "[encoded data removed]",
      "text/plain": [
       "<Figure size 1000x500 with 2 Axes>"
      ]
     },
     "metadata": {},
     "output_type": "display_data"
    }
   ],
   "source": [
    "import matplotlib.pyplot as plt\n",
    "plt.rcParams['font.family'] ='Malgun Gothic'\n",
    "plt.rcParams['axes.unicode_minus'] =False\n",
    "import seaborn as sns\n",
    "\n",
    "fig, ax = plt.subplots(1,2, figsize = (10,5))\n",
    "sns.barplot(data = entity_cnt, ax = ax[0])\n",
    "sns.barplot(data = attribute_cnt, ax = ax[1])\n",
    "plt.show()"
   ]
  },
  {
   "cell_type": "code",
   "execution_count": 43,
   "id": "5f2b02ee",
   "metadata": {},
   "outputs": [],
   "source": [
    "from sklearn.utils import resample\n",
    "import pandas as pd\n",
    "\n",
    "# (1) 조합별 개수 확인\n",
    "group_counts = train_df.groupby(['ACD_entity', 'ACD_attribute']).size()\n",
    "\n",
    "# (2) 최소 수치로 맞춤 (0은 제외)\n",
    "min_count = group_counts[group_counts > 0].min()\n",
    "\n",
    "# (3) 조합별 다운샘플링 수행\n",
    "downsampled_list = []\n",
    "\n",
    "for (entity, attr), group in train_df.groupby(['ACD_entity', 'ACD_attribute']):\n",
    "    if len(group) >= min_count:\n",
    "        sampled = resample(group, replace=False, n_samples=min_count, random_state=42)\n",
    "        downsampled_list.append(sampled)\n",
    "\n",
    "# (4) 합치기\n",
    "downsampled_df = pd.concat(downsampled_list).reset_index(drop=True)\n"
   ]
  },
  {
   "cell_type": "code",
   "execution_count": 44,
   "id": "331f6066",
   "metadata": {},
   "outputs": [
    {
     "name": "stderr",
     "output_type": "stream",
     "text": [
      "Some weights of RobertaModel were not initialized from the model checkpoint at klue/roberta-base and are newly initialized: ['roberta.pooler.dense.bias', 'roberta.pooler.dense.weight']\n",
      "You should probably TRAIN this model on a down-stream task to be able to use it for predictions and inference.\n"
     ]
    }
   ],
   "source": [
    "from transformers import AutoTokenizer, AutoModel\n",
    "\n",
    "tokenizer = AutoTokenizer.from_pretrained(\"klue/roberta-base\")\n",
    "model = AutoModel.from_pretrained(\"klue/roberta-base\")"
   ]
  },
  {
   "cell_type": "code",
   "execution_count": 45,
   "id": "511efdf1",
   "metadata": {},
   "outputs": [],
   "source": [
    "import torch.nn as nn\n",
    "class Bert_Classifier(nn.Module):\n",
    "    def __init__(self):\n",
    "        super().__init__()\n",
    "        self.bert = AutoModel.from_pretrained(\"klue/roberta-base\")\n",
    "        self.classifier1 = nn.Linear(self.bert.config.hidden_size, 4)\n",
    "        self.classifier2 = nn.Linear(self.bert.config.hidden_size, 7)\n",
    "        self.classifier3 = nn.Linear(self.bert.config.hidden_size, 1)\n",
    "    def forward(self, input_ids, attention_mask):\n",
    "        x = self.bert(input_ids, attention_mask)\n",
    "        x = x.pooler_output\n",
    "        output1 = self.classifier1(x)\n",
    "        output2 = self.classifier2(x)\n",
    "        output3 = self.classifier3(x)\n",
    "        return output1, output2, output3"
   ]
  },
  {
   "cell_type": "code",
   "execution_count": 46,
   "id": "d4a10fb0",
   "metadata": {},
   "outputs": [],
   "source": [
    "from torch.utils.data import Dataset\n",
    "import torch\n",
    "\n",
    "class MultiTaskDataset(Dataset):\n",
    "    def __init__(self, texts, entity_labels, attribute_labels, len_labels, tokenizer, max_len):\n",
    "        self.texts = texts\n",
    "        self.entity_labels = entity_labels\n",
    "        self.attribute_labels = attribute_labels\n",
    "        self.len_labels = len_labels\n",
    "        self.tokenizer = tokenizer\n",
    "        self.max_len = max_len\n",
    "\n",
    "    def __len__(self):\n",
    "        return len(self.texts)\n",
    "\n",
    "    def __getitem__(self, idx):\n",
    "        text = self.texts[idx]\n",
    "        entity_label = torch.tensor(self.entity_labels[idx], dtype=torch.long)\n",
    "        attribute_label = torch.tensor(self.attribute_labels[idx], dtype=torch.long)\n",
    "        len_label = torch.tensor(self.len_labels[idx], dtype=torch.float32)\n",
    "\n",
    "        encoding = self.tokenizer(\n",
    "            text,\n",
    "            truncation=True,\n",
    "            padding='max_length',\n",
    "            max_length=self.max_len,\n",
    "            return_tensors='pt'\n",
    "        )\n",
    "\n",
    "        return {\n",
    "            'input_ids': encoding['input_ids'].squeeze(0),\n",
    "            'attention_mask': encoding['attention_mask'].squeeze(0),\n",
    "            'entity_label': entity_label,\n",
    "            'attribute_label': attribute_label,\n",
    "            'len_label' : len_label\n",
    "        }\n",
    "\n",
    "    \n",
    "from sklearn.preprocessing import LabelEncoder\n",
    "\n",
    "le_entity = LabelEncoder()\n",
    "le_attribute = LabelEncoder()\n",
    "\n",
    "entity_labels = le_entity.fit_transform(downsampled_df['ACD_entity'])\n",
    "attribute_labels = le_attribute.fit_transform(downsampled_df['ACD_attribute'])\n",
    "\n",
    "from torch.utils.data import DataLoader\n",
    "\n",
    "dataset = MultiTaskDataset(\n",
    "    texts=downsampled_df['sentence_form'].tolist(),\n",
    "    entity_labels=entity_labels,\n",
    "    attribute_labels=attribute_labels,\n",
    "    len_labels=downsampled_df['annotation_len'],\n",
    "    tokenizer=tokenizer,\n",
    "    max_len=64\n",
    ")\n",
    "\n",
    "train_loader = DataLoader(dataset, batch_size=4, shuffle=True)"
   ]
  },
  {
   "cell_type": "code",
   "execution_count": null,
   "id": "04d4c816",
   "metadata": {},
   "outputs": [],
   "source": [
    "EPOCHS = 10\n",
    "ce = nn.CrossEntropyLoss()\n",
    "mse = nn.MSELoss()\n",
    "\n",
    "def train_model(model, train_loader, optimizer):\n",
    "    model.train()\n",
    "    avg_entity_losses, avg_attribute_losses, avg_number_losses = [], [], []\n",
    "    for epoch in range(EPOCHS):\n",
    "        total_entity_loss, total_attribute_loss, total_number_loss = 0, 0, 0\n",
    "        for batch in train_loader:\n",
    "            entity, attribute, number = model(batch['input_ids'], batch['attention_mask'])\n",
    "            loss_entity = ce(entity, batch['entity_label'])\n",
    "            loss_attribute = ce(attribute, batch['attribute_label'])\n",
    "            loss_number = mse(number, batch['len_label'])\n",
    "            optimizer.zero_grad()\n",
    "            loss_entity.backward(retain_graph=True)\n",
    "            loss_attribute.backward(retain_graph=True)\n",
    "            loss_number.backward()\n",
    "            optimizer.step()\n",
    "            total_entity_loss += loss_entity.item()\n",
    "            total_attribute_loss += loss_attribute.item()\n",
    "            total_number_loss += loss_number.item()\n",
    "        avg_entity_loss = total_entity_loss/len(train_loader)\n",
    "        avg_attribute_loss = total_attribute_loss/len(train_loader)\n",
    "        avg_number_loss = total_number_loss/len(train_loader)\n",
    "        avg_entity_losses.append(avg_entity_loss)\n",
    "        avg_attribute_losses.append(avg_attribute_loss)\n",
    "        avg_number_losses.append(avg_number_loss)\n",
    "        print(f\"Epoch : {epoch+1} - Entity Loss = {avg_entity_loss}, Attribute Loss = {avg_attribute_loss}, Number Loss = {avg_number_loss}\")\n",
    "    return [avg_entity_losses, avg_attribute_losses, avg_number_losses]\n",
    "            "
   ]
  },
  {
   "cell_type": "code",
   "execution_count": null,
   "id": "5c9f2716",
   "metadata": {},
   "outputs": [
    {
     "name": "stderr",
     "output_type": "stream",
     "text": [
      "Some weights of RobertaModel were not initialized from the model checkpoint at klue/roberta-base and are newly initialized: ['roberta.pooler.dense.bias', 'roberta.pooler.dense.weight']\n",
      "You should probably TRAIN this model on a down-stream task to be able to use it for predictions and inference.\n",
      "c:\\Users\\82102\\anaconda3\\envs\\nlpenv\\Lib\\site-packages\\torch\\nn\\modules\\loss.py:608: UserWarning: Using a target size (torch.Size([4])) that is different to the input size (torch.Size([4, 1])). This will likely lead to incorrect results due to broadcasting. Please ensure they have the same size.\n",
      "  return F.mse_loss(input, target, reduction=self.reduction)\n",
      "c:\\Users\\82102\\anaconda3\\envs\\nlpenv\\Lib\\site-packages\\torch\\nn\\modules\\loss.py:608: UserWarning: Using a target size (torch.Size([2])) that is different to the input size (torch.Size([2, 1])). This will likely lead to incorrect results due to broadcasting. Please ensure they have the same size.\n",
      "  return F.mse_loss(input, target, reduction=self.reduction)\n"
     ]
    },
    {
     "name": "stdout",
     "output_type": "stream",
     "text": [
      "Epoch : 1 - Entity Loss = 1.393614411354065, Attribute Loss = 1.9964961210886638, Number Loss = 1.9300565719604492\n",
      "Epoch : 2 - Entity Loss = 1.4021520018577576, Attribute Loss = 1.9727323452631633, Number Loss = 1.822588562965393\n",
      "Epoch : 3 - Entity Loss = 1.3826892375946045, Attribute Loss = 1.9962677160898845, Number Loss = 1.8170302708943684\n",
      "Epoch : 4 - Entity Loss = 1.407431145509084, Attribute Loss = 1.9650733669598897, Number Loss = 1.8203529119491577\n",
      "Epoch : 5 - Entity Loss = 1.400393545627594, Attribute Loss = 1.9728466272354126, Number Loss = 1.7625215252240498\n",
      "Epoch : 6 - Entity Loss = 1.4099823832511902, Attribute Loss = 1.9830074707667034, Number Loss = 1.8070086638132732\n",
      "Epoch : 7 - Entity Loss = 1.3907593886057537, Attribute Loss = 1.9521993001302083, Number Loss = 1.85880845785141\n",
      "Epoch : 8 - Entity Loss = 1.4016164739926655, Attribute Loss = 1.9773895343144734, Number Loss = 1.7936594287554424\n",
      "Epoch : 9 - Entity Loss = 1.4048242171605427, Attribute Loss = 1.987294852733612, Number Loss = 1.8054248889287312\n",
      "Epoch : 10 - Entity Loss = 1.411885917186737, Attribute Loss = 1.9885810017585754, Number Loss = 1.9488253394762676\n"
     ]
    },
    {
     "ename": "TypeError",
     "evalue": "cannot unpack non-iterable NoneType object",
     "output_type": "error",
     "traceback": [
      "\u001b[1;31m---------------------------------------------------------------------------\u001b[0m",
      "\u001b[1;31mTypeError\u001b[0m                                 Traceback (most recent call last)",
      "Cell \u001b[1;32mIn[54], line 3\u001b[0m\n\u001b[0;32m      1\u001b[0m optimizer \u001b[38;5;241m=\u001b[39m torch\u001b[38;5;241m.\u001b[39moptim\u001b[38;5;241m.\u001b[39mAdam(model\u001b[38;5;241m.\u001b[39mparameters(), lr \u001b[38;5;241m=\u001b[39m \u001b[38;5;241m0.001\u001b[39m)\n\u001b[0;32m      2\u001b[0m bert_model \u001b[38;5;241m=\u001b[39m Bert_Classifier()\n\u001b[1;32m----> 3\u001b[0m avg_entity_losses, avg_attribute_losses, avg_number_losses \u001b[38;5;241m=\u001b[39m train_model(bert_model, train_loader, optimizer)\n",
      "\u001b[1;31mTypeError\u001b[0m: cannot unpack non-iterable NoneType object"
     ]
    }
   ],
   "source": [
    "optimizer = torch.optim.Adam(model.parameters(), lr = 0.001)\n",
    "bert_model = Bert_Classifier()  \n",
    "avg_entity_losses, avg_attribute_losses, avg_number_losses = train_model(bert_model, train_loader, optimizer)"
   ]
  },
  {
   "cell_type": "code",
   "execution_count": null,
   "id": "0180cb4c",
   "metadata": {},
   "outputs": [
    {
     "data": {
      "text/plain": [
       "{'input_ids': tensor([[    0,     3,  6925,  2471,  2052,  1125,  2227,  3072, 17598,  9416,\n",
       "          2116,  1910,  2324, 31369,  1820,  2960,  3856,  2116,  4718, 17559,\n",
       "            18,     2,     1,     1,     1,     1,     1,     1,     1,     1,\n",
       "             1,     1,     1,     1,     1,     1,     1,     1,     1,     1,\n",
       "             1,     1,     1,     1,     1,     1,     1,     1,     1,     1,\n",
       "             1,     1,     1,     1,     1,     1,     1,     1,     1,     1,\n",
       "             1,     1,     1,     1]]), 'token_type_ids': tensor([[0, 0, 0, 0, 0, 0, 0, 0, 0, 0, 0, 0, 0, 0, 0, 0, 0, 0, 0, 0, 0, 0, 0, 0,\n",
       "         0, 0, 0, 0, 0, 0, 0, 0, 0, 0, 0, 0, 0, 0, 0, 0, 0, 0, 0, 0, 0, 0, 0, 0,\n",
       "         0, 0, 0, 0, 0, 0, 0, 0, 0, 0, 0, 0, 0, 0, 0, 0]]), 'attention_mask': tensor([[1, 1, 1, 1, 1, 1, 1, 1, 1, 1, 1, 1, 1, 1, 1, 1, 1, 1, 1, 1, 1, 1, 0, 0,\n",
       "         0, 0, 0, 0, 0, 0, 0, 0, 0, 0, 0, 0, 0, 0, 0, 0, 0, 0, 0, 0, 0, 0, 0, 0,\n",
       "         0, 0, 0, 0, 0, 0, 0, 0, 0, 0, 0, 0, 0, 0, 0, 0]])}"
      ]
     },
     "execution_count": 18,
     "metadata": {},
     "output_type": "execute_result"
    }
   ],
   "source": []
  }
 ],
 "metadata": {
  "kernelspec": {
   "display_name": "nlpenv",
   "language": "python",
   "name": "python3"
  },
  "language_info": {
   "codemirror_mode": {
    "name": "ipython",
    "version": 3
   },
   "file_extension": ".py",
   "mimetype": "text/x-python",
   "name": "python",
   "nbconvert_exporter": "python",
   "pygments_lexer": "ipython3",
   "version": "3.11.11"
  }
 },
 "nbformat": 4,
 "nbformat_minor": 5
}
